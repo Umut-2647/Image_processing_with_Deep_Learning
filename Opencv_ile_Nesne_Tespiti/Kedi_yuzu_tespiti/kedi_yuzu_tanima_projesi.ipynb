{
 "cells": [
  {
   "cell_type": "code",
   "execution_count": 2,
   "metadata": {},
   "outputs": [],
   "source": [
    "import cv2\n",
    "import os "
   ]
  },
  {
   "cell_type": "code",
   "execution_count": 3,
   "metadata": {},
   "outputs": [
    {
     "name": "stdout",
     "output_type": "stream",
     "text": [
      "['cat_img1.jpg', 'cat_img2.jpg', 'cat_img3.jpg', 'haarcascade_frontalcatface.xml']\n",
      "['cat_img1.jpg', 'cat_img2.jpg', 'cat_img3.jpg']\n",
      "cat_img1.jpg\n",
      "cat_img2.jpg\n",
      "cat_img3.jpg\n"
     ]
    }
   ],
   "source": [
    "files = os.listdir('kedi_media') #kedi_media klasorundeki dosyalari listeler\n",
    "print(files) #dosyalari ekrana yazdirir\n",
    "img_path_list =[] #dosya isimlerini tutacak bir liste olusturulur\n",
    "for f in files: #dosya isimlerini tek tek alir\n",
    "    if f.endswith('.jpg'): #dosya isimleri .jpg ile bitiyorsa\n",
    "        img_path_list.append(f) #dosya ismi listeye eklenir\n",
    "\n",
    "print(img_path_list) \n",
    "\n",
    "for j in img_path_list:\n",
    "    print(j)\n",
    "    img = cv2.imread('kedi_media/'+j) #resimler okunur\n",
    "\n",
    "    gray = cv2.cvtColor(img,cv2.COLOR_BGR2GRAY) #resimler griye cevrilir\n",
    "\n",
    "    detector = cv2.CascadeClassifier(\"kedi_media//haarcascade_frontalcatface.xml\") #cascade dosyasi okunur\n",
    "\n",
    "    rects = detector.detectMultiScale(gray,scaleFactor=1.045,minNeighbors=2) #kedi yuzlerini tespit eder\n",
    "\n",
    "    for (i,(x,y,w,h)) in enumerate(rects): #kedi yuzlerini cizer\n",
    "        cv2.rectangle(img,(x,y),(x+w,y+h),(0,255,0),2) #kedi yuzlerini cizer\n",
    "        cv2.putText(img,\"Kedi #{}\".format(i+1),(x,y-10),cv2.FONT_HERSHEY_SIMPLEX,0.55,(0,255,0),2) #kedi yuzlerinin etrafinda kedi yazisi yazar\n",
    "\n",
    "\n",
    "    cv2.imshow(j,img)\n",
    "\n",
    "    if cv2.waitKey(0) & 0xFF == ord('q'): #q tusuna basildiginda siradaki resimleri gosterir\n",
    "        continue\n",
    "\n",
    "cv2.destroyAllWindows()\n",
    "\n",
    "    "
   ]
  },
  {
   "cell_type": "code",
   "execution_count": null,
   "metadata": {},
   "outputs": [],
   "source": []
  },
  {
   "cell_type": "code",
   "execution_count": null,
   "metadata": {},
   "outputs": [],
   "source": []
  }
 ],
 "metadata": {
  "kernelspec": {
   "display_name": "Python 3",
   "language": "python",
   "name": "python3"
  },
  "language_info": {
   "codemirror_mode": {
    "name": "ipython",
    "version": 3
   },
   "file_extension": ".py",
   "mimetype": "text/x-python",
   "name": "python",
   "nbconvert_exporter": "python",
   "pygments_lexer": "ipython3",
   "version": "3.12.2"
  }
 },
 "nbformat": 4,
 "nbformat_minor": 2
}
