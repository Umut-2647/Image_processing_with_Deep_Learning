{
 "cells": [
  {
   "cell_type": "code",
   "execution_count": 1,
   "metadata": {},
   "outputs": [],
   "source": [
    "import cv2\n",
    "import numpy as np"
   ]
  },
  {
   "cell_type": "code",
   "execution_count": 2,
   "metadata": {},
   "outputs": [],
   "source": [
    "img = cv2.imread(\"odev2.jpg\",0)\n",
    "\n",
    "cv2.imshow(\"Original\",img)\n",
    "\n",
    "\n",
    "edges = cv2.Canny(img,200,255) # 200 ve 255 değerleri arasındaki değerler edge olarak kabul edilir\n",
    "cv2.imshow(\"Edges\",edges)\n",
    "\n",
    "face_cascade = cv2.CascadeClassifier(\"haarcascade_frontalface_default.xml\") # yüz tanıma için xml dosyası\n",
    "\n",
    "rects = face_cascade.detectMultiScale(img) # yüz tanıma işlemi\n",
    "\n",
    "for (x,y,w,h) in rects: # yüzün etrafına dikdörtgen çizme\n",
    "    cv2.rectangle(img,(x,y),(x+w,y+h),(255,0,0),2)\n",
    "\n",
    "cv2.imshow(\"Faces\",img)\n",
    "\n",
    "\n",
    "#hog tanimlayicisi kullanarak yayalari tespit etme\n",
    "hog = cv2.HOGDescriptor()\n",
    "#SVM set edelim\n",
    "hog.setSVMDetector(cv2.HOGDescriptor_getDefaultPeopleDetector())\n",
    "\n",
    "(rects,weights)=hog.detectMultiScale(img,padding=(8,8),scale=1.05) #bize iki tane deger dondurur\n",
    "#biri dikdortgenin koordinatlari digeri de agirligi\n",
    "\n",
    "for (xA,yA,wA,hA) in rects:\n",
    "    cv2.rectangle(img,(xA,yA),(xA+wA,yA+hA),(0,255,0),2)\n",
    "\n",
    "cv2.imshow(\"Insan tespiti\",img)\n",
    "\n",
    "\n",
    "\n",
    "\n",
    "cv2.waitKey(0)\n",
    "cv2.destroyAllWindows()"
   ]
  },
  {
   "cell_type": "code",
   "execution_count": null,
   "metadata": {},
   "outputs": [],
   "source": []
  },
  {
   "cell_type": "code",
   "execution_count": null,
   "metadata": {},
   "outputs": [],
   "source": []
  },
  {
   "cell_type": "code",
   "execution_count": null,
   "metadata": {},
   "outputs": [],
   "source": []
  }
 ],
 "metadata": {
  "kernelspec": {
   "display_name": "Python 3",
   "language": "python",
   "name": "python3"
  },
  "language_info": {
   "codemirror_mode": {
    "name": "ipython",
    "version": 3
   },
   "file_extension": ".py",
   "mimetype": "text/x-python",
   "name": "python",
   "nbconvert_exporter": "python",
   "pygments_lexer": "ipython3",
   "version": "3.12.2"
  }
 },
 "nbformat": 4,
 "nbformat_minor": 2
}
