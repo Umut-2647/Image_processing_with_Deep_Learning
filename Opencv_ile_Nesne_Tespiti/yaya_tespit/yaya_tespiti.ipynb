{
 "cells": [
  {
   "cell_type": "code",
   "execution_count": 1,
   "metadata": {},
   "outputs": [],
   "source": [
    "import cv2\n",
    "import os\n",
    "\n"
   ]
  },
  {
   "cell_type": "code",
   "execution_count": null,
   "metadata": {},
   "outputs": [
    {
     "name": "stdout",
     "output_type": "stream",
     "text": [
      "['img1.jpg', 'img2.jpg', 'img3.jpg']\n",
      "img1.jpg\n",
      "img2.jpg\n",
      "img3.jpg\n"
     ]
    }
   ],
   "source": [
    "path= os.path.join(os.getcwd(),\"media\")\n",
    "\n",
    "files = os.listdir(path) #dosya listesi\n",
    "img_path_list = [] #resimlerin yolu\n",
    "\n",
    "for f in files: #resimleri ayırma\n",
    "    if f.endswith(\".jpg\"):\n",
    "        img_path_list.append(f)\n",
    "    \n",
    "print(img_path_list)\n",
    "\n",
    "#hog tanımlaması\n",
    "hog = cv2.HOGDescriptor()\n",
    "#tanimlayiciya SVM yükleme\n",
    "hog.setSVMDetector(cv2.HOGDescriptor_getDefaultPeopleDetector()) #insan tanımlayıcı\n",
    "\n",
    "for img_path in img_path_list: \n",
    "    print(img_path) \n",
    "\n",
    "    image = cv2.imread(\"media/\"+img_path) #resim okuma\n",
    "\n",
    "    (rects,weights)=hog.detectMultiScale(image,padding=(8,8),scale=1.05) #insanları tanıma\n",
    "\n",
    "    for (x,y,w,h) in rects: #insanları çerçeveleme\n",
    "        cv2.rectangle(image,(x,y),(x+w,y+h),(0,0,255),2)\n",
    "\n",
    "    cv2.imshow(\"yaya\",image)\n",
    "\n",
    "    if cv2.waitKey(0) & 0xFF == ord(\"q\"): continue\n",
    "\n",
    "cv2.destroyAllWindows()"
   ]
  },
  {
   "cell_type": "code",
   "execution_count": null,
   "metadata": {},
   "outputs": [],
   "source": []
  }
 ],
 "metadata": {
  "kernelspec": {
   "display_name": "Python 3",
   "language": "python",
   "name": "python3"
  },
  "language_info": {
   "codemirror_mode": {
    "name": "ipython",
    "version": 3
   },
   "file_extension": ".py",
   "mimetype": "text/x-python",
   "name": "python",
   "nbconvert_exporter": "python",
   "pygments_lexer": "ipython3",
   "version": "3.12.2"
  }
 },
 "nbformat": 4,
 "nbformat_minor": 2
}
