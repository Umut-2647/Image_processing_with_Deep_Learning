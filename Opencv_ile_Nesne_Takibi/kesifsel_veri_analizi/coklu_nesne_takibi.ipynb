{
 "cells": [
  {
   "cell_type": "code",
   "execution_count": 8,
   "metadata": {},
   "outputs": [],
   "source": [
    "import cv2\n",
    "\n",
    "# Tracker isimleri\n",
    "OPENCV_OBJECT_TRACKERS = {\n",
    "    \"kcf\": cv2.legacy.TrackerKCF_create,\n",
    "    \"csrt\": cv2.legacy.TrackerCSRT_create,\n",
    "    \"boosting\": cv2.legacy.TrackerBoosting_create,\n",
    "    \"mil\": cv2.legacy.TrackerMIL_create,\n",
    "    \"tld\": cv2.legacy.TrackerTLD_create,\n",
    "    \"medianflow\": cv2.legacy.TrackerMedianFlow_create,\n",
    "    \"mosse\": cv2.legacy.TrackerMOSSE_create\n",
    "}\n",
    "\n",
    "tracker_name = \"kcf\"  # Kullanmak istediğiniz tracker'ı buradan değiştirebilirsiniz\n",
    "trackers = cv2.legacy.MultiTracker_create()\n",
    "\n",
    "# Video kaynağını tanımlama\n",
    "video_path =\"MOT17-04-DPM.mp4\"\n",
    "  # Video dosyanızın yolunu buraya yazın\n",
    "cap = cv2.VideoCapture(video_path)\n",
    "\n",
    "while True:\n",
    "    ret, frame = cap.read()\n",
    "    if not ret:\n",
    "        break\n",
    "\n",
    "    # Tracker'ları güncelle\n",
    "    (success, boxes) = trackers.update(frame)\n",
    "\n",
    "    # Bilgi metnini ekle\n",
    "    info_text = f\"Tracker: {tracker_name}, Success: {'Yes' if success else 'No'}\"\n",
    "    cv2.putText(frame, info_text, (10, 30), cv2.FONT_HERSHEY_SIMPLEX, 0.6, (0, 255, 0), 2)\n",
    "\n",
    "    # Tüm kutuları çiz\n",
    "    for box in boxes:\n",
    "        (x, y, w, h) = [int(v) for v in box]\n",
    "        cv2.rectangle(frame, (x, y), (x + w, y + h), (0, 255, 0), 2)\n",
    "\n",
    "    # Frame'i göster\n",
    "    cv2.imshow(\"Tracking\", frame)\n",
    "\n",
    "    # Kullanıcıdan ROI seçimini al\n",
    "    key = cv2.waitKey(1) & 0xFF\n",
    "    if key == ord(\"t\"):  # 't' tuşuna basarak yeni bir nesne ekle\n",
    "        box = cv2.selectROI(\"Tracking\", frame, fromCenter=False)\n",
    "        tracker = OPENCV_OBJECT_TRACKERS[tracker_name]()  # Tracker oluştur\n",
    "        trackers.add(tracker, frame, box)  # Tracker'ı ekle\n",
    "    elif key == ord(\"q\"):  # 'q' tuşuna basarak çık\n",
    "        break\n",
    "\n",
    "# Kaynakları serbest bırak\n",
    "cap.release()\n",
    "cv2.destroyAllWindows()\n"
   ]
  },
  {
   "cell_type": "code",
   "execution_count": null,
   "metadata": {},
   "outputs": [],
   "source": []
  },
  {
   "cell_type": "code",
   "execution_count": null,
   "metadata": {},
   "outputs": [],
   "source": []
  }
 ],
 "metadata": {
  "kernelspec": {
   "display_name": "Python 3",
   "language": "python",
   "name": "python3"
  },
  "language_info": {
   "codemirror_mode": {
    "name": "ipython",
    "version": 3
   },
   "file_extension": ".py",
   "mimetype": "text/x-python",
   "name": "python",
   "nbconvert_exporter": "python",
   "pygments_lexer": "ipython3",
   "version": "3.12.2"
  }
 },
 "nbformat": 4,
 "nbformat_minor": 2
}
