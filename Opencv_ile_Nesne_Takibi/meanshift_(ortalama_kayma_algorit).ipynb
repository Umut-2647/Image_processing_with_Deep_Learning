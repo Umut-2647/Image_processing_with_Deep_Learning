{
 "cells": [
  {
   "cell_type": "code",
   "execution_count": 1,
   "metadata": {},
   "outputs": [],
   "source": [
    "import cv2\n",
    "import numpy as np"
   ]
  },
  {
   "cell_type": "code",
   "execution_count": null,
   "metadata": {},
   "outputs": [],
   "source": [
    "cap = cv2.VideoCapture(0)\n",
    "#bir tane frame oku\n",
    "ret,frame = cap.read()\n",
    "\n",
    "if ret==False:\n",
    "    print(\"Uyari\")\n",
    "\n",
    "#deteciton\n",
    "face_cascade = cv2.CascadeClassifier(\"media/haarcascade_frontalface_default.xml\") #xml dosyasini oku\n",
    "face_rects =face_cascade.detectMultiScale(frame) #yuz tespiti yap\n",
    "\n",
    "\n",
    "(face_x,face_y,w,h) = tuple(face_rects[0])  #yuzun koordinatlarini al\n",
    "\n",
    "track_window = (face_x,face_y,w,h) #takip penceresi meanashift algoritmasi girdisi\n",
    "\n",
    "#region of interest (roi) al\n",
    "\n",
    "roi = frame[face_y:face_y+h,face_x:face_x+w] #yuzun oldugu alani al\n",
    "\n",
    "hsv_roi = cv2.cvtColor(roi,cv2.COLOR_BGR2HSV) #hsv formatina cevir\n",
    "\n",
    "roi_hist=cv2.calcHist([hsv_roi],[0],None,[180],[0,180]) #takip icin histogram hesapla\n",
    "\n",
    "cv2.normalize(roi_hist,roi_hist,0,255,cv2.NORM_MINMAX) #normalizasyon\n",
    "\n",
    "#takip icin gerekli durdurma kriterleri\n",
    "#count: hesaplanacak maksimum oge sayisi\n",
    "#epsilon : degisiklik\n",
    "\n",
    "term_crit= (cv2.TERM_CRITERIA_EPS| cv2.TERM_CRITERIA_COUNT,5,1) #durma kriterleri\n",
    "\n",
    "while True:\n",
    "    ret,frame = cap.read() #kameradan frame oku\n",
    "    frame = cv2.flip(frame,1) #goruntuyu dondur\n",
    "    if ret:\n",
    "        hsv = cv2.cvtColor(frame,cv2.COLOR_BGR2HSV)\n",
    "\n",
    "        #histogrami bir goruntude bulmak icin backprojection kullanilir\n",
    "        #backprojection: bir goruntudeki her pikselin histograma gore olasiligini hesaplar\n",
    "\n",
    "        dst = cv2.calcBackProject([hsv],[0],roi_hist,[0,180],1) #backprojection hesapla\n",
    "\n",
    "        ret , track_window = cv2.meanShift(dst,track_window,term_crit) #mean shift algoritmasi\n",
    "\n",
    "        (x,y,w,h) = track_window #takip penceresinin koordinatlari\n",
    "\n",
    "        img2 = cv2.rectangle(frame,(x,y),(x+w,y+h),(0,0,255),5) #takip penceresini ciz\n",
    "\n",
    "        cv2.imshow(\"MeanShift Tracking\",img2)\n",
    "\n",
    "    if cv2.waitKey(1) & 0xFF == ord(\"q\"):\n",
    "        break\n",
    "\n",
    "cap.release()\n",
    "cv2.destroyAllWindows()\n",
    "\n",
    "\n",
    "\n",
    "\n",
    "\n",
    "\n",
    "\n",
    "\n",
    "\n",
    "\n",
    "\n",
    "\n",
    "\n",
    "\n",
    "\n",
    "\n",
    "\n",
    "\n",
    "\n"
   ]
  },
  {
   "cell_type": "code",
   "execution_count": null,
   "metadata": {},
   "outputs": [],
   "source": []
  },
  {
   "cell_type": "code",
   "execution_count": null,
   "metadata": {},
   "outputs": [],
   "source": []
  },
  {
   "cell_type": "code",
   "execution_count": null,
   "metadata": {},
   "outputs": [],
   "source": []
  }
 ],
 "metadata": {
  "kernelspec": {
   "display_name": "Python 3",
   "language": "python",
   "name": "python3"
  },
  "language_info": {
   "codemirror_mode": {
    "name": "ipython",
    "version": 3
   },
   "file_extension": ".py",
   "mimetype": "text/x-python",
   "name": "python",
   "nbconvert_exporter": "python",
   "pygments_lexer": "ipython3",
   "version": "3.12.2"
  }
 },
 "nbformat": 4,
 "nbformat_minor": 2
}
