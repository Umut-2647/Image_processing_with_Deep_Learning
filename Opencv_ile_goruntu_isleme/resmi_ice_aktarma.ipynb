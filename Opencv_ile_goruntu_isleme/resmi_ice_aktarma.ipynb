{
 "cells": [
  {
   "cell_type": "code",
   "execution_count": 2,
   "metadata": {},
   "outputs": [],
   "source": [
    "import cv2\n",
    "import os"
   ]
  },
  {
   "cell_type": "code",
   "execution_count": 5,
   "metadata": {},
   "outputs": [],
   "source": [
    "img = cv2.imread(\"media/messi.jpg\",0) # 0 resmi siyah beyaz yapar\n",
    "\n",
    "cv2.imshow(\"Ilk resim\",img)\n",
    "k =cv2.waitKey(0) & 0xFF\n",
    "\n",
    "if k == 27: # esc tusuna basildiginda cikis yapar\n",
    "    cv2.destroyAllWindows()\n",
    "\n",
    "elif k == ord(\"s\"): # s tusuna basildiginda resmi kaydeder\n",
    "    \n",
    "    cv2.imwrite(\"media/messi_gray.jpg\",img)\n",
    "    cv2.destroyAllWindows()"
   ]
  }
 ],
 "metadata": {
  "kernelspec": {
   "display_name": "Python 3",
   "language": "python",
   "name": "python3"
  },
  "language_info": {
   "codemirror_mode": {
    "name": "ipython",
    "version": 3
   },
   "file_extension": ".py",
   "mimetype": "text/x-python",
   "name": "python",
   "nbconvert_exporter": "python",
   "pygments_lexer": "ipython3",
   "version": "3.12.2"
  }
 },
 "nbformat": 4,
 "nbformat_minor": 2
}
