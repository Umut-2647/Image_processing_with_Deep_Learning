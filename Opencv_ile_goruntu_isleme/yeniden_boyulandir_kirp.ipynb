{
 "cells": [
  {
   "cell_type": "code",
   "execution_count": 2,
   "metadata": {},
   "outputs": [],
   "source": [
    "import cv2"
   ]
  },
  {
   "cell_type": "code",
   "execution_count": 3,
   "metadata": {},
   "outputs": [
    {
     "name": "stdout",
     "output_type": "stream",
     "text": [
      "Resim boyutu (512, 512, 3)\n",
      "Yeniden boyutlandirilmiş Resim boyutu (600, 600, 3)\n"
     ]
    }
   ],
   "source": [
    "img = cv2.imread(\"media/lenna.png\")\n",
    "\n",
    "print(\"Resim boyutu\",img.shape)\n",
    "\n",
    "cv2.imshow(\"Orijinal Resim\",img)\n",
    "\n",
    "## Resmi yeniden boyutlandıralım\n",
    "\n",
    "imgResized =cv2.resize(img,(600,600))\n",
    "\n",
    "print(\"Yeniden boyutlandirilmiş Resim boyutu\",imgResized.shape)\n",
    "\n",
    "cv2.imshow(\"Yeniden boyutlandirilmiş Resim\",imgResized)\n",
    "\n",
    "\n",
    "##Kırpma işlemi yapalım\n",
    "\n",
    "imgCropped = img[:200,:300] #width height >> height width\n",
    "cv2.imshow(\"Kirpilmiş Resim\",imgCropped)\n",
    "\n",
    "\n",
    "cv2.waitKey(0)\n",
    "cv2.destroyAllWindows()"
   ]
  },
  {
   "cell_type": "code",
   "execution_count": null,
   "metadata": {},
   "outputs": [],
   "source": []
  }
 ],
 "metadata": {
  "kernelspec": {
   "display_name": "Python 3",
   "language": "python",
   "name": "python3"
  },
  "language_info": {
   "codemirror_mode": {
    "name": "ipython",
    "version": 3
   },
   "file_extension": ".py",
   "mimetype": "text/x-python",
   "name": "python",
   "nbconvert_exporter": "python",
   "pygments_lexer": "ipython3",
   "version": "3.12.2"
  }
 },
 "nbformat": 4,
 "nbformat_minor": 2
}
