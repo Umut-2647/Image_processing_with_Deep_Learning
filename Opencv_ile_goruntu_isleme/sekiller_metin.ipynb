{
 "cells": [
  {
   "cell_type": "code",
   "execution_count": 2,
   "metadata": {},
   "outputs": [],
   "source": [
    "import cv2\n",
    "import numpy as np"
   ]
  },
  {
   "cell_type": "code",
   "execution_count": 11,
   "metadata": {},
   "outputs": [
    {
     "name": "stdout",
     "output_type": "stream",
     "text": [
      "(512, 512, 3)\n"
     ]
    }
   ],
   "source": [
    "#resim olustur\n",
    "\n",
    "img =np.zeros((512,512,3),np.uint8) #siyah resim\n",
    "\n",
    "print(img.shape)\n",
    "\n",
    "cv2.imshow(\"siyah\",img)\n",
    "\n",
    "\n",
    "#cizgi cizme\n",
    "#(resim, baslangic, bitis, renk, kalinlik)\n",
    "\n",
    "cv2.line(img,(0,0),(512,512),(0,255,0),3)     \n",
    "cv2.imshow(\"cizgi\",img)\n",
    "\n",
    "#dikdortgen cizme\n",
    "#(resim, sol_ust, sag_alt, renk, kalinlik)\n",
    "cv2.rectangle(img,(0,0),(256,256),(255,0,0),3)\n",
    "cv2.imshow(\"dikdortgen\",img)\n",
    "\n",
    "\n",
    "#cember cizme\n",
    "#(resim, merkez, yaricap, renk, kalinlik)\n",
    "\n",
    "cv2.circle(img,(300,300),45,(0,0,255),-1)\n",
    "cv2.imshow(\"cember\",img)\n",
    "\n",
    "\n",
    "#metin\n",
    "#(resim, metin, baslangic, font, olcek, renk, kalinlik)\n",
    "\n",
    "cv2.putText(img,\"Resim\",(350,350),cv2.FONT_HERSHEY_COMPLEX,1,(255,255,255),3)\n",
    "cv2.imshow(\"metin\",img)\n",
    "\n",
    "\n",
    "cv2.waitKey(0)\n",
    "cv2.destroyAllWindows()"
   ]
  }
 ],
 "metadata": {
  "kernelspec": {
   "display_name": "Python 3",
   "language": "python",
   "name": "python3"
  },
  "language_info": {
   "codemirror_mode": {
    "name": "ipython",
    "version": 3
   },
   "file_extension": ".py",
   "mimetype": "text/x-python",
   "name": "python",
   "nbconvert_exporter": "python",
   "pygments_lexer": "ipython3",
   "version": "3.12.2"
  }
 },
 "nbformat": 4,
 "nbformat_minor": 2
}
