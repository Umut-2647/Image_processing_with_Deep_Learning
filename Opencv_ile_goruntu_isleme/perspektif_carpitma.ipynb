{
 "cells": [
  {
   "cell_type": "code",
   "execution_count": 1,
   "metadata": {},
   "outputs": [],
   "source": [
    "import cv2\n",
    "import numpy as np"
   ]
  },
  {
   "cell_type": "code",
   "execution_count": 6,
   "metadata": {},
   "outputs": [
    {
     "name": "stdout",
     "output_type": "stream",
     "text": [
      "(445, 511, 3)\n",
      "[[ 1.46839362e+00  6.31909328e-01 -3.33548111e+02]\n",
      " [-5.65290401e-01  1.30759093e+00  1.20652386e+02]\n",
      " [-8.28412111e-06  7.82592983e-06  1.00000000e+00]]\n"
     ]
    }
   ],
   "source": [
    "img = cv2.imread('media/card.png')\n",
    "cv2.imshow('Original', img)\n",
    "\n",
    "print(img.shape)\n",
    "\n",
    "width =400\n",
    "height = 500\n",
    "\n",
    "pts1 = np.float32([[225,5],[86,328],[454,104],[316,427]]) #cevirmek istedigimiz noktalar\n",
    "pts2 = np.float32([[0,0],[0,height],[width,0],[width,height]]) #cevirmek istedigimiz noktalarin gidecegi noktalar\n",
    "\n",
    "matrix = cv2.getPerspectiveTransform(pts1,pts2) #donusum matrisi\n",
    "print(matrix)\n",
    "\n",
    "output= cv2.warpPerspective(img,matrix,(width,height)) #donusum islemi\n",
    "\n",
    "cv2.imshow('Output', output)\n",
    "\n",
    "\n",
    "cv2.waitKey(0)\n",
    "cv2.destroyAllWindows()"
   ]
  }
 ],
 "metadata": {
  "kernelspec": {
   "display_name": "Python 3",
   "language": "python",
   "name": "python3"
  },
  "language_info": {
   "codemirror_mode": {
    "name": "ipython",
    "version": 3
   },
   "file_extension": ".py",
   "mimetype": "text/x-python",
   "name": "python",
   "nbconvert_exporter": "python",
   "pygments_lexer": "ipython3",
   "version": "3.12.2"
  }
 },
 "nbformat": 4,
 "nbformat_minor": 2
}
