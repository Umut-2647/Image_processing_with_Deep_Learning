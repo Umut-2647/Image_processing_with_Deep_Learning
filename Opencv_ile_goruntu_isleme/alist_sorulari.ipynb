{
 "cells": [
  {
   "cell_type": "code",
   "execution_count": 2,
   "metadata": {},
   "outputs": [],
   "source": [
    "import cv2\n",
    "import numpy as np\n",
    "import matplotlib.pyplot as plt"
   ]
  },
  {
   "cell_type": "code",
   "execution_count": null,
   "metadata": {},
   "outputs": [
    {
     "data": {
      "image/png": "[encoded data removed]",
      "text/plain": [
       "<Figure size 640x480 with 1 Axes>"
      ]
     },
     "metadata": {},
     "output_type": "display_data"
    }
   ],
   "source": [
    "img = cv2.imread(\"media/hayvan.jpg\",0) #resmi siyah beyaz okur\n",
    "cv2.imshow(\"Image\",img) #resmi gösterir\n",
    "height , width = img.shape # (height, width)\n",
    "img_resized = cv2.resize(img,(int(height*0.8), int(width*0.8))) #resmi yeniden boyutlandırır\n",
    "cv2.imshow(\"Resized Image\",img_resized)\n",
    "\n",
    "cv2.putText(img,\"Hayvan\",(50,50),cv2.FONT_HERSHEY_COMPLEX,1,(255,255,255),1) #resmin üzerine yazı yazar\n",
    "cv2.imshow(\"Text\",img)\n",
    "\n",
    "_,thresh =cv2.threshold(img,60,255,cv2.THRESH_BINARY) #resme esik değeri uygular\n",
    "cv2.imshow(\"Threshold\",thresh)\n",
    "\n",
    "gb = cv2.GaussianBlur(img,ksize=(3,3),sigmaX=7) #resme gaussian blur uygular\n",
    "cv2.imshow(\"Gaussian BLur\",gb)\n",
    "\n",
    "laplacian = cv2.Laplacian(img,cv2.CV_64F) #resme laplacian uygular\n",
    "cv2.imshow(\"Laplacian\", laplacian)\n",
    "\n",
    "\n",
    "img_hist = cv2.calcHist([img], [0],None,[256],[0,256]) #resmin histogramını çıkarır\n",
    "plt.figure(), plt.imshow(img_hist), plt.show() #histogramı gösterir\n",
    "\n",
    "\n",
    "cv2.waitKey(0)\n",
    "cv2.destroyAllWindows()"
   ]
  }
 ],
 "metadata": {
  "kernelspec": {
   "display_name": "Python 3",
   "language": "python",
   "name": "python3"
  },
  "language_info": {
   "codemirror_mode": {
    "name": "ipython",
    "version": 3
   },
   "file_extension": ".py",
   "mimetype": "text/x-python",
   "name": "python",
   "nbconvert_exporter": "python",
   "pygments_lexer": "ipython3",
   "version": "3.12.2"
  }
 },
 "nbformat": 4,
 "nbformat_minor": 2
}
