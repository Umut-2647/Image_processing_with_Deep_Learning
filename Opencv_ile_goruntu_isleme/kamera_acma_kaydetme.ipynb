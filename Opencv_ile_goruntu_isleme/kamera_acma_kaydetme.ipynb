{
 "cells": [
  {
   "cell_type": "code",
   "execution_count": 1,
   "metadata": {},
   "outputs": [],
   "source": [
    "import cv2"
   ]
  },
  {
   "cell_type": "code",
   "execution_count": 3,
   "metadata": {},
   "outputs": [
    {
     "name": "stdout",
     "output_type": "stream",
     "text": [
      "640 480\n"
     ]
    }
   ],
   "source": [
    "cap = cv2.VideoCapture(0) #webcama baglanma\n",
    "\n",
    "width= int(cap.get(cv2.CAP_PROP_FRAME_WIDTH)) #genislik\n",
    "height= int(cap.get(cv2.CAP_PROP_FRAME_HEIGHT)) #yukseklik\n",
    "\n",
    "print(width,height)\n",
    "\n",
    "\n",
    "#video kaydetme\n",
    "\n",
    "writer= cv2.VideoWriter(\"media/video_kayit.mp4\",cv2.VideoWriter_fourcc(*\"DIVX\"),20,(width,height))\n",
    "\n",
    "while True:\n",
    "    ret , frame = cap.read() #webcamdan okuma\n",
    "\n",
    "    cv2.imshow(\"frame\",frame)\n",
    "\n",
    "    writer.write(frame) #video kaydetme\n",
    "\n",
    "    if cv2.waitKey(1) & 0xFF == ord(\"q\"):\n",
    "        break\n",
    "\n",
    "cap.release() #webcam serbest birakma\n",
    "writer.release() #video serbest birakma\n",
    "\n",
    "cv2.destroyAllWindows() #pencereleri kapatma\n"
   ]
  }
 ],
 "metadata": {
  "kernelspec": {
   "display_name": "Python 3",
   "language": "python",
   "name": "python3"
  },
  "language_info": {
   "codemirror_mode": {
    "name": "ipython",
    "version": 3
   },
   "file_extension": ".py",
   "mimetype": "text/x-python",
   "name": "python",
   "nbconvert_exporter": "python",
   "pygments_lexer": "ipython3",
   "version": "3.12.2"
  }
 },
 "nbformat": 4,
 "nbformat_minor": 2
}
